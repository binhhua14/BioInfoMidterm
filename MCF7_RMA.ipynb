{
 "cells": [
  {
   "cell_type": "markdown",
   "metadata": {},
   "source": [
    "## Install and Import Required Packages."
   ]
  },
  {
   "cell_type": "code",
   "execution_count": 20,
   "metadata": {},
   "outputs": [
    {
     "name": "stdout",
     "output_type": "stream",
     "text": [
      "\n",
      "  There are binary versions available but the source versions are later:\n",
      "           binary source needs_compilation\n",
      "caret      6.0-79 6.0-80              TRUE\n",
      "dplyr       0.7.4  0.7.5              TRUE\n",
      "tidyr       0.8.0  0.8.1              TRUE\n",
      "kernlab    0.9-25 0.9-26              TRUE\n",
      "kableExtra  0.8.0  0.9.0             FALSE\n",
      "\n",
      "\n",
      "The downloaded binary packages are in\n",
      "\t/var/folders/yd/z5kfxbcx3znb5t4sq8_f6gbm0000gp/T//RtmpxRbez1/downloaded_packages\n"
     ]
    },
    {
     "name": "stderr",
     "output_type": "stream",
     "text": [
      "installing the source packages ‘caret’, ‘dplyr’, ‘tidyr’, ‘kernlab’, ‘kableExtra’\n",
      "\n",
      "Warning message in install.packages(c(\"R.utils\", \"ggplot2\", \"caret\", \"dplyr\", \"tidyr\", :\n",
      "“installation of package ‘kernlab’ had non-zero exit status”"
     ]
    }
   ],
   "source": [
    "install.packages(c(\"R.utils\", \"ggplot2\", \"caret\", \"dplyr\", \"tidyr\", \"kernlab\", \"DMwR\" ,\"knitr\", \"kableExtra\"))"
   ]
  },
  {
   "cell_type": "code",
   "execution_count": 21,
   "metadata": {
    "scrolled": true
   },
   "outputs": [
    {
     "name": "stderr",
     "output_type": "stream",
     "text": [
      "Bioconductor version 3.6 (BiocInstaller 1.28.0), ?biocLite for help\n",
      "A new version of Bioconductor is available after installing the most recent\n",
      "  version of R; see http://bioconductor.org/install\n",
      "BioC_mirror: https://bioconductor.org\n",
      "Using Bioconductor 3.6 (BiocInstaller 1.28.0), R 3.4.4 (2018-03-15).\n",
      "Installing package(s) ‘limma’\n"
     ]
    },
    {
     "name": "stdout",
     "output_type": "stream",
     "text": [
      "\n",
      "The downloaded binary packages are in\n",
      "\t/var/folders/yd/z5kfxbcx3znb5t4sq8_f6gbm0000gp/T//RtmpxRbez1/downloaded_packages\n"
     ]
    },
    {
     "name": "stderr",
     "output_type": "stream",
     "text": [
      "Old packages: 'bit', 'CVST', 'DBI', 'ddalpha', 'foreign', 'inline',\n",
      "  'IRdisplay', 'kernlab', 'lambda.r', 'MASS', 'Matrix', 'nlme', 'pbdZMQ',\n",
      "  'pillar', 'psych', 'purrr', 'Rcpp', 'repr', 'RMySQL', 'robustbase', 'rrcov',\n",
      "  'RSQLite', 'stringi', 'stringr', 'survival', 'utf8'\n",
      "BioC_mirror: https://bioconductor.org\n",
      "Using Bioconductor 3.6 (BiocInstaller 1.28.0), R 3.4.4 (2018-03-15).\n",
      "Installing package(s) ‘affy’\n"
     ]
    },
    {
     "name": "stdout",
     "output_type": "stream",
     "text": [
      "\n",
      "The downloaded binary packages are in\n",
      "\t/var/folders/yd/z5kfxbcx3znb5t4sq8_f6gbm0000gp/T//RtmpxRbez1/downloaded_packages\n"
     ]
    },
    {
     "name": "stderr",
     "output_type": "stream",
     "text": [
      "Old packages: 'bit', 'CVST', 'DBI', 'ddalpha', 'foreign', 'inline',\n",
      "  'IRdisplay', 'kernlab', 'lambda.r', 'MASS', 'Matrix', 'nlme', 'pbdZMQ',\n",
      "  'pillar', 'psych', 'purrr', 'Rcpp', 'repr', 'RMySQL', 'robustbase', 'rrcov',\n",
      "  'RSQLite', 'stringi', 'stringr', 'survival', 'utf8'\n"
     ]
    }
   ],
   "source": [
    "library(R.utils)\n",
    "library(ggplot2)\n",
    "library(caret)\n",
    "library(dplyr)\n",
    "library(tidyr)\n",
    "library(kernlab)\n",
    "library(DMwR)\n",
    "library(knitr)\n",
    "library(kableExtra)\n",
    "\n",
    "source(\"https://bioconductor.org/biocLite.R\")\n",
    "biocLite(\"limma\")\n",
    "library(limma)\n",
    "biocLite(\"affy\")\n",
    "library(affy)"
   ]
  },
  {
   "cell_type": "markdown",
   "metadata": {},
   "source": [
    "## Read in the filenames and lables spreadsheet"
   ]
  },
  {
   "cell_type": "code",
   "execution_count": 22,
   "metadata": {},
   "outputs": [
    {
     "data": {
      "text/html": [
       "<table>\n",
       "<thead><tr><th scope=col>ID</th><th scope=col>Category</th><th scope=col>Label</th><th scope=col>MCF7</th></tr></thead>\n",
       "<tbody>\n",
       "\t<tr><td>                           </td><td>                           </td><td>                           </td><td>MCF7                       </td></tr>\n",
       "\t<tr><td>S No.                      </td><td>Data Type                  </td><td>Class Label                </td><td>Compound .cel file name    </td></tr>\n",
       "\t<tr><td>1                          </td><td>Training                   </td><td>1                          </td><td>5500024030403071907255.C05 </td></tr>\n",
       "\t<tr><td>2                          </td><td>Training                   </td><td>1                          </td><td>5500024030403071907253.A09 </td></tr>\n",
       "\t<tr><td>3                          </td><td>Training                   </td><td>0                          </td><td>5500024030402071707279.B01 </td></tr>\n",
       "\t<tr><td>4                          </td><td>Training                   </td><td>1                          </td><td>5500024030403071907257.G04 </td></tr>\n",
       "\t<tr><td>5                          </td><td>Training                   </td><td>0                          </td><td>'5500024037496121008324.E08</td></tr>\n",
       "\t<tr><td>6                          </td><td>Training                   </td><td>0                          </td><td>5500024032848101507997.F03 </td></tr>\n",
       "\t<tr><td>7                          </td><td>Training                   </td><td>1                          </td><td>5500024030402071707277.F10 </td></tr>\n",
       "\t<tr><td>8                          </td><td>Training                   </td><td>1                          </td><td>5500024024213121906562.B07 </td></tr>\n",
       "\t<tr><td>9                          </td><td>Training                   </td><td>1                          </td><td>5500024032848101507997.H04 </td></tr>\n",
       "\t<tr><td>10                         </td><td>Training                   </td><td>1                          </td><td>5500024032848101507997.D01 </td></tr>\n",
       "\t<tr><td>11                         </td><td>Training                   </td><td>0                          </td><td>5500024030402071707279.H02 </td></tr>\n",
       "\t<tr><td>12                         </td><td>Training                   </td><td>0                          </td><td>'5500024030403071907252.E04</td></tr>\n",
       "\t<tr><td>13                         </td><td>Training                   </td><td>1                          </td><td>5500024024211121606513.D09 </td></tr>\n",
       "\t<tr><td>14                         </td><td>Training                   </td><td>1                          </td><td>5500024024211121606513.C12 </td></tr>\n",
       "\t<tr><td>15                         </td><td>Training                   </td><td>1                          </td><td>5500024030403071907255.C09 </td></tr>\n",
       "\t<tr><td>16                         </td><td>Training                   </td><td>1                          </td><td>5500024024213121906562.F07 </td></tr>\n",
       "\t<tr><td>17                         </td><td>Training                   </td><td>0                          </td><td>5500024030402071707277.A10 </td></tr>\n",
       "\t<tr><td>18                         </td><td>Training                   </td><td>0                          </td><td>5500024030402071707277.F11 </td></tr>\n",
       "\t<tr><td>19                         </td><td>Training                   </td><td>1                          </td><td>5500024024211121606513.H10 </td></tr>\n",
       "\t<tr><td>20                         </td><td>Training                   </td><td>0                          </td><td>5500024030700072107988.G09 </td></tr>\n",
       "\t<tr><td>21                         </td><td>Training                   </td><td>1                          </td><td>'5500024030700072107994.E04</td></tr>\n",
       "\t<tr><td>22                         </td><td>Training                   </td><td>1                          </td><td>5500024024213121906562.F11 </td></tr>\n",
       "\t<tr><td>23                         </td><td>Training                   </td><td>0                          </td><td>5500024035101021908499.D02 </td></tr>\n",
       "\t<tr><td>24                         </td><td>Training                   </td><td>1                          </td><td>5500024030403071907255.D01 </td></tr>\n",
       "\t<tr><td>25                         </td><td>Training                   </td><td>1                          </td><td>5500024028849050407169.D03 </td></tr>\n",
       "\t<tr><td>26                         </td><td>Training                   </td><td>1                          </td><td>5500024035736031208618.D09 </td></tr>\n",
       "\t<tr><td>27                         </td><td>Training                   </td><td>1                          </td><td>EC2004030515AA             </td></tr>\n",
       "\t<tr><td>28                         </td><td>Training                   </td><td>1                          </td><td>5500024030760072207031.H08 </td></tr>\n",
       "\t<tr><td>⋮</td><td>⋮</td><td>⋮</td><td>⋮</td></tr>\n",
       "\t<tr><td>57                         </td><td>Validation                 </td><td>                           </td><td>5500024031723100807772.F02 </td></tr>\n",
       "\t<tr><td>58                         </td><td>Validation                 </td><td>                           </td><td>5500024032848101507997.D03 </td></tr>\n",
       "\t<tr><td>59                         </td><td>Validation                 </td><td>                           </td><td>5500024035735011708567.H04 </td></tr>\n",
       "\t<tr><td>60                         </td><td>Validation                 </td><td>                           </td><td>'5500024051859013109328.E06</td></tr>\n",
       "\t<tr><td>61                         </td><td>Validation                 </td><td>                           </td><td>5500024031723100807772.F01 </td></tr>\n",
       "\t<tr><td>62                         </td><td>Validation                 </td><td>                           </td><td>5500024030403071907255.G01 </td></tr>\n",
       "\t<tr><td>63                         </td><td>Validation                 </td><td>                           </td><td>5500024035735011708571.B07 </td></tr>\n",
       "\t<tr><td>64                         </td><td>Validation                 </td><td>                           </td><td>5500024035736031208617.F05 </td></tr>\n",
       "\t<tr><td>65                         </td><td>Validation                 </td><td>                           </td><td>5500024024213121906558.C01 </td></tr>\n",
       "\t<tr><td>66                         </td><td>Validation                 </td><td>                           </td><td>5500024030760072207031.B10 </td></tr>\n",
       "\t<tr><td>67                         </td><td>Validation                 </td><td>                           </td><td>5500024030403071907253.D12 </td></tr>\n",
       "\t<tr><td>68                         </td><td>Validation                 </td><td>                           </td><td>5500024034290101707045.A03 </td></tr>\n",
       "\t<tr><td>69                         </td><td>Validation                 </td><td>                           </td><td>5500024030402071707277.A02 </td></tr>\n",
       "\t<tr><td>70                         </td><td>Validation                 </td><td>                           </td><td>5500024030403071907256.G05 </td></tr>\n",
       "\t<tr><td>71                         </td><td>Validation                 </td><td>                           </td><td>5500024030402071707279.B04 </td></tr>\n",
       "\t<tr><td>72                         </td><td>Validation                 </td><td>                           </td><td>'5500024030403071907255.E01</td></tr>\n",
       "\t<tr><td>73                         </td><td>Validation                 </td><td>                           </td><td>5500024037498121108437.G05 </td></tr>\n",
       "\t<tr><td>74                         </td><td>Validation                 </td><td>                           </td><td>5500024028849050407169.B12 </td></tr>\n",
       "\t<tr><td>75                         </td><td>Validation                 </td><td>                           </td><td>5500024035101021908499.C04 </td></tr>\n",
       "\t<tr><td>76                         </td><td>Validation                 </td><td>                           </td><td>5500024024214122006606.H08 </td></tr>\n",
       "\t<tr><td>77                         </td><td>Validation                 </td><td>                           </td><td>'5500024035101021908499.E08</td></tr>\n",
       "\t<tr><td>78                         </td><td>Validation                 </td><td>                           </td><td>5500024031723100807770.H06 </td></tr>\n",
       "\t<tr><td>79                         </td><td>Validation                 </td><td>                           </td><td>'5500024031330081907228.E11</td></tr>\n",
       "\t<tr><td>80                         </td><td>Validation                 </td><td>                           </td><td>'5500024034290101707045.E11</td></tr>\n",
       "\t<tr><td>81                         </td><td>Validation                 </td><td>                           </td><td>5500024032848101507997.D09 </td></tr>\n",
       "\t<tr><td>82                         </td><td>Validation                 </td><td>                           </td><td>5500024031330081907228.H02 </td></tr>\n",
       "\t<tr><td>83                         </td><td>Validation                 </td><td>                           </td><td>5500024031723100807772.F06 </td></tr>\n",
       "\t<tr><td>84                         </td><td>Validation                 </td><td>                           </td><td>5500024024213121906562.C04 </td></tr>\n",
       "\t<tr><td>85                         </td><td>Validation                 </td><td>                           </td><td>5500024024213121906562.G03 </td></tr>\n",
       "\t<tr><td>86                         </td><td>Validation                 </td><td>                           </td><td>5500024053146032309538.H03 </td></tr>\n",
       "</tbody>\n",
       "</table>\n"
      ],
      "text/latex": [
       "\\begin{tabular}{r|llll}\n",
       " ID & Category & Label & MCF7\\\\\n",
       "\\hline\n",
       "\t                             &                             &                             & MCF7                       \\\\\n",
       "\t S No.                       & Data Type                   & Class Label                 & Compound .cel file name    \\\\\n",
       "\t 1                           & Training                    & 1                           & 5500024030403071907255.C05 \\\\\n",
       "\t 2                           & Training                    & 1                           & 5500024030403071907253.A09 \\\\\n",
       "\t 3                           & Training                    & 0                           & 5500024030402071707279.B01 \\\\\n",
       "\t 4                           & Training                    & 1                           & 5500024030403071907257.G04 \\\\\n",
       "\t 5                           & Training                    & 0                           & '5500024037496121008324.E08\\\\\n",
       "\t 6                           & Training                    & 0                           & 5500024032848101507997.F03 \\\\\n",
       "\t 7                           & Training                    & 1                           & 5500024030402071707277.F10 \\\\\n",
       "\t 8                           & Training                    & 1                           & 5500024024213121906562.B07 \\\\\n",
       "\t 9                           & Training                    & 1                           & 5500024032848101507997.H04 \\\\\n",
       "\t 10                          & Training                    & 1                           & 5500024032848101507997.D01 \\\\\n",
       "\t 11                          & Training                    & 0                           & 5500024030402071707279.H02 \\\\\n",
       "\t 12                          & Training                    & 0                           & '5500024030403071907252.E04\\\\\n",
       "\t 13                          & Training                    & 1                           & 5500024024211121606513.D09 \\\\\n",
       "\t 14                          & Training                    & 1                           & 5500024024211121606513.C12 \\\\\n",
       "\t 15                          & Training                    & 1                           & 5500024030403071907255.C09 \\\\\n",
       "\t 16                          & Training                    & 1                           & 5500024024213121906562.F07 \\\\\n",
       "\t 17                          & Training                    & 0                           & 5500024030402071707277.A10 \\\\\n",
       "\t 18                          & Training                    & 0                           & 5500024030402071707277.F11 \\\\\n",
       "\t 19                          & Training                    & 1                           & 5500024024211121606513.H10 \\\\\n",
       "\t 20                          & Training                    & 0                           & 5500024030700072107988.G09 \\\\\n",
       "\t 21                          & Training                    & 1                           & '5500024030700072107994.E04\\\\\n",
       "\t 22                          & Training                    & 1                           & 5500024024213121906562.F11 \\\\\n",
       "\t 23                          & Training                    & 0                           & 5500024035101021908499.D02 \\\\\n",
       "\t 24                          & Training                    & 1                           & 5500024030403071907255.D01 \\\\\n",
       "\t 25                          & Training                    & 1                           & 5500024028849050407169.D03 \\\\\n",
       "\t 26                          & Training                    & 1                           & 5500024035736031208618.D09 \\\\\n",
       "\t 27                          & Training                    & 1                           & EC2004030515AA             \\\\\n",
       "\t 28                          & Training                    & 1                           & 5500024030760072207031.H08 \\\\\n",
       "\t ⋮ & ⋮ & ⋮ & ⋮\\\\\n",
       "\t 57                          & Validation                  &                             & 5500024031723100807772.F02 \\\\\n",
       "\t 58                          & Validation                  &                             & 5500024032848101507997.D03 \\\\\n",
       "\t 59                          & Validation                  &                             & 5500024035735011708567.H04 \\\\\n",
       "\t 60                          & Validation                  &                             & '5500024051859013109328.E06\\\\\n",
       "\t 61                          & Validation                  &                             & 5500024031723100807772.F01 \\\\\n",
       "\t 62                          & Validation                  &                             & 5500024030403071907255.G01 \\\\\n",
       "\t 63                          & Validation                  &                             & 5500024035735011708571.B07 \\\\\n",
       "\t 64                          & Validation                  &                             & 5500024035736031208617.F05 \\\\\n",
       "\t 65                          & Validation                  &                             & 5500024024213121906558.C01 \\\\\n",
       "\t 66                          & Validation                  &                             & 5500024030760072207031.B10 \\\\\n",
       "\t 67                          & Validation                  &                             & 5500024030403071907253.D12 \\\\\n",
       "\t 68                          & Validation                  &                             & 5500024034290101707045.A03 \\\\\n",
       "\t 69                          & Validation                  &                             & 5500024030402071707277.A02 \\\\\n",
       "\t 70                          & Validation                  &                             & 5500024030403071907256.G05 \\\\\n",
       "\t 71                          & Validation                  &                             & 5500024030402071707279.B04 \\\\\n",
       "\t 72                          & Validation                  &                             & '5500024030403071907255.E01\\\\\n",
       "\t 73                          & Validation                  &                             & 5500024037498121108437.G05 \\\\\n",
       "\t 74                          & Validation                  &                             & 5500024028849050407169.B12 \\\\\n",
       "\t 75                          & Validation                  &                             & 5500024035101021908499.C04 \\\\\n",
       "\t 76                          & Validation                  &                             & 5500024024214122006606.H08 \\\\\n",
       "\t 77                          & Validation                  &                             & '5500024035101021908499.E08\\\\\n",
       "\t 78                          & Validation                  &                             & 5500024031723100807770.H06 \\\\\n",
       "\t 79                          & Validation                  &                             & '5500024031330081907228.E11\\\\\n",
       "\t 80                          & Validation                  &                             & '5500024034290101707045.E11\\\\\n",
       "\t 81                          & Validation                  &                             & 5500024032848101507997.D09 \\\\\n",
       "\t 82                          & Validation                  &                             & 5500024031330081907228.H02 \\\\\n",
       "\t 83                          & Validation                  &                             & 5500024031723100807772.F06 \\\\\n",
       "\t 84                          & Validation                  &                             & 5500024024213121906562.C04 \\\\\n",
       "\t 85                          & Validation                  &                             & 5500024024213121906562.G03 \\\\\n",
       "\t 86                          & Validation                  &                             & 5500024053146032309538.H03 \\\\\n",
       "\\end{tabular}\n"
      ],
      "text/markdown": [
       "\n",
       "ID | Category | Label | MCF7 | \n",
       "|---|---|---|---|---|---|---|---|---|---|---|---|---|---|---|---|---|---|---|---|---|---|---|---|---|---|---|---|---|---|---|---|---|---|---|---|---|---|---|---|---|---|---|---|---|---|---|---|---|---|---|---|---|---|---|---|---|---|---|---|---|\n",
       "|                             |                             |                             | MCF7                        | \n",
       "| S No.                       | Data Type                   | Class Label                 | Compound .cel file name     | \n",
       "| 1                           | Training                    | 1                           | 5500024030403071907255.C05  | \n",
       "| 2                           | Training                    | 1                           | 5500024030403071907253.A09  | \n",
       "| 3                           | Training                    | 0                           | 5500024030402071707279.B01  | \n",
       "| 4                           | Training                    | 1                           | 5500024030403071907257.G04  | \n",
       "| 5                           | Training                    | 0                           | '5500024037496121008324.E08 | \n",
       "| 6                           | Training                    | 0                           | 5500024032848101507997.F03  | \n",
       "| 7                           | Training                    | 1                           | 5500024030402071707277.F10  | \n",
       "| 8                           | Training                    | 1                           | 5500024024213121906562.B07  | \n",
       "| 9                           | Training                    | 1                           | 5500024032848101507997.H04  | \n",
       "| 10                          | Training                    | 1                           | 5500024032848101507997.D01  | \n",
       "| 11                          | Training                    | 0                           | 5500024030402071707279.H02  | \n",
       "| 12                          | Training                    | 0                           | '5500024030403071907252.E04 | \n",
       "| 13                          | Training                    | 1                           | 5500024024211121606513.D09  | \n",
       "| 14                          | Training                    | 1                           | 5500024024211121606513.C12  | \n",
       "| 15                          | Training                    | 1                           | 5500024030403071907255.C09  | \n",
       "| 16                          | Training                    | 1                           | 5500024024213121906562.F07  | \n",
       "| 17                          | Training                    | 0                           | 5500024030402071707277.A10  | \n",
       "| 18                          | Training                    | 0                           | 5500024030402071707277.F11  | \n",
       "| 19                          | Training                    | 1                           | 5500024024211121606513.H10  | \n",
       "| 20                          | Training                    | 0                           | 5500024030700072107988.G09  | \n",
       "| 21                          | Training                    | 1                           | '5500024030700072107994.E04 | \n",
       "| 22                          | Training                    | 1                           | 5500024024213121906562.F11  | \n",
       "| 23                          | Training                    | 0                           | 5500024035101021908499.D02  | \n",
       "| 24                          | Training                    | 1                           | 5500024030403071907255.D01  | \n",
       "| 25                          | Training                    | 1                           | 5500024028849050407169.D03  | \n",
       "| 26                          | Training                    | 1                           | 5500024035736031208618.D09  | \n",
       "| 27                          | Training                    | 1                           | EC2004030515AA              | \n",
       "| 28                          | Training                    | 1                           | 5500024030760072207031.H08  | \n",
       "| ⋮ | ⋮ | ⋮ | ⋮ | \n",
       "| 57                          | Validation                  |                             | 5500024031723100807772.F02  | \n",
       "| 58                          | Validation                  |                             | 5500024032848101507997.D03  | \n",
       "| 59                          | Validation                  |                             | 5500024035735011708567.H04  | \n",
       "| 60                          | Validation                  |                             | '5500024051859013109328.E06 | \n",
       "| 61                          | Validation                  |                             | 5500024031723100807772.F01  | \n",
       "| 62                          | Validation                  |                             | 5500024030403071907255.G01  | \n",
       "| 63                          | Validation                  |                             | 5500024035735011708571.B07  | \n",
       "| 64                          | Validation                  |                             | 5500024035736031208617.F05  | \n",
       "| 65                          | Validation                  |                             | 5500024024213121906558.C01  | \n",
       "| 66                          | Validation                  |                             | 5500024030760072207031.B10  | \n",
       "| 67                          | Validation                  |                             | 5500024030403071907253.D12  | \n",
       "| 68                          | Validation                  |                             | 5500024034290101707045.A03  | \n",
       "| 69                          | Validation                  |                             | 5500024030402071707277.A02  | \n",
       "| 70                          | Validation                  |                             | 5500024030403071907256.G05  | \n",
       "| 71                          | Validation                  |                             | 5500024030402071707279.B04  | \n",
       "| 72                          | Validation                  |                             | '5500024030403071907255.E01 | \n",
       "| 73                          | Validation                  |                             | 5500024037498121108437.G05  | \n",
       "| 74                          | Validation                  |                             | 5500024028849050407169.B12  | \n",
       "| 75                          | Validation                  |                             | 5500024035101021908499.C04  | \n",
       "| 76                          | Validation                  |                             | 5500024024214122006606.H08  | \n",
       "| 77                          | Validation                  |                             | '5500024035101021908499.E08 | \n",
       "| 78                          | Validation                  |                             | 5500024031723100807770.H06  | \n",
       "| 79                          | Validation                  |                             | '5500024031330081907228.E11 | \n",
       "| 80                          | Validation                  |                             | '5500024034290101707045.E11 | \n",
       "| 81                          | Validation                  |                             | 5500024032848101507997.D09  | \n",
       "| 82                          | Validation                  |                             | 5500024031330081907228.H02  | \n",
       "| 83                          | Validation                  |                             | 5500024031723100807772.F06  | \n",
       "| 84                          | Validation                  |                             | 5500024024213121906562.C04  | \n",
       "| 85                          | Validation                  |                             | 5500024024213121906562.G03  | \n",
       "| 86                          | Validation                  |                             | 5500024053146032309538.H03  | \n",
       "\n",
       "\n"
      ],
      "text/plain": [
       "    ID     Category   Label       MCF7                       \n",
       "1                                 MCF7                       \n",
       "2   S No.  Data Type  Class Label Compound .cel file name    \n",
       "3   1      Training   1           5500024030403071907255.C05 \n",
       "4   2      Training   1           5500024030403071907253.A09 \n",
       "5   3      Training   0           5500024030402071707279.B01 \n",
       "6   4      Training   1           5500024030403071907257.G04 \n",
       "7   5      Training   0           '5500024037496121008324.E08\n",
       "8   6      Training   0           5500024032848101507997.F03 \n",
       "9   7      Training   1           5500024030402071707277.F10 \n",
       "10  8      Training   1           5500024024213121906562.B07 \n",
       "11  9      Training   1           5500024032848101507997.H04 \n",
       "12  10     Training   1           5500024032848101507997.D01 \n",
       "13  11     Training   0           5500024030402071707279.H02 \n",
       "14  12     Training   0           '5500024030403071907252.E04\n",
       "15  13     Training   1           5500024024211121606513.D09 \n",
       "16  14     Training   1           5500024024211121606513.C12 \n",
       "17  15     Training   1           5500024030403071907255.C09 \n",
       "18  16     Training   1           5500024024213121906562.F07 \n",
       "19  17     Training   0           5500024030402071707277.A10 \n",
       "20  18     Training   0           5500024030402071707277.F11 \n",
       "21  19     Training   1           5500024024211121606513.H10 \n",
       "22  20     Training   0           5500024030700072107988.G09 \n",
       "23  21     Training   1           '5500024030700072107994.E04\n",
       "24  22     Training   1           5500024024213121906562.F11 \n",
       "25  23     Training   0           5500024035101021908499.D02 \n",
       "26  24     Training   1           5500024030403071907255.D01 \n",
       "27  25     Training   1           5500024028849050407169.D03 \n",
       "28  26     Training   1           5500024035736031208618.D09 \n",
       "29  27     Training   1           EC2004030515AA             \n",
       "30  28     Training   1           5500024030760072207031.H08 \n",
       "⋮   ⋮      ⋮          ⋮           ⋮                          \n",
       "249 57     Validation             5500024031723100807772.F02 \n",
       "250 58     Validation             5500024032848101507997.D03 \n",
       "251 59     Validation             5500024035735011708567.H04 \n",
       "252 60     Validation             '5500024051859013109328.E06\n",
       "253 61     Validation             5500024031723100807772.F01 \n",
       "254 62     Validation             5500024030403071907255.G01 \n",
       "255 63     Validation             5500024035735011708571.B07 \n",
       "256 64     Validation             5500024035736031208617.F05 \n",
       "257 65     Validation             5500024024213121906558.C01 \n",
       "258 66     Validation             5500024030760072207031.B10 \n",
       "259 67     Validation             5500024030403071907253.D12 \n",
       "260 68     Validation             5500024034290101707045.A03 \n",
       "261 69     Validation             5500024030402071707277.A02 \n",
       "262 70     Validation             5500024030403071907256.G05 \n",
       "263 71     Validation             5500024030402071707279.B04 \n",
       "264 72     Validation             '5500024030403071907255.E01\n",
       "265 73     Validation             5500024037498121108437.G05 \n",
       "266 74     Validation             5500024028849050407169.B12 \n",
       "267 75     Validation             5500024035101021908499.C04 \n",
       "268 76     Validation             5500024024214122006606.H08 \n",
       "269 77     Validation             '5500024035101021908499.E08\n",
       "270 78     Validation             5500024031723100807770.H06 \n",
       "271 79     Validation             '5500024031330081907228.E11\n",
       "272 80     Validation             '5500024034290101707045.E11\n",
       "273 81     Validation             5500024032848101507997.D09 \n",
       "274 82     Validation             5500024031330081907228.H02 \n",
       "275 83     Validation             5500024031723100807772.F06 \n",
       "276 84     Validation             5500024024213121906562.C04 \n",
       "277 85     Validation             5500024024213121906562.G03 \n",
       "278 86     Validation             5500024053146032309538.H03 "
      ]
     },
     "metadata": {},
     "output_type": "display_data"
    }
   ],
   "source": [
    "require(gdata)\n",
    "sample_info <- read.xls(\"CAMDA_Challange_dataset_filenames.xlsx\", sheet = 1, header=TRUE)\n",
    "sample_info <- sample_info[,c(1,2,3,4)]\n",
    "colnames(sample_info)=c(\"ID\",\"Category\",\"Label\",\"MCF7\")\n",
    "sample_info"
   ]
  },
  {
   "cell_type": "markdown",
   "metadata": {},
   "source": [
    "## Clean up the table"
   ]
  },
  {
   "cell_type": "code",
   "execution_count": 23,
   "metadata": {},
   "outputs": [],
   "source": [
    "sample_info$Category <- gsub(\"Training \", \"Training\", sample_info$Category)\n",
    "#sample_info$Category\n",
    "sample_info$MCF7 <- gsub(\"^\\'\",\"\", sample_info$MCF7)\n",
    "\n",
    "set.seed(588) # Fix the random seed for reproducible purpose.\n",
    "#sample_train <- sample_info[sample_info$Category==\"Training\",]\n",
    "#Label <- factor(sample_train$Label,levels = c(1,0))\n",
    "#levels(Label) <- c(\"Positive\",\"Negative\") # rename the Label to be more intuitive. \n",
    "#inTraining <- createDataPartition(Label, p=0.6, list=FALSE, times=1)\n",
    "\n",
    "## Data normalization Method:\n",
    "norm_method = \"RMA\"  # could be \"RMA\" too. \"MAS5\" would be relatively slower."
   ]
  },
  {
   "cell_type": "code",
   "execution_count": null,
   "metadata": {},
   "outputs": [],
   "source": [
    "data <- read.table(\"./MCF7_RMA.txt\", sep=\"\\t\")\n",
    "dim (data)"
   ]
  },
  {
   "cell_type": "code",
   "execution_count": null,
   "metadata": {},
   "outputs": [],
   "source": [
    "data_train_MCF7 <- data [1:190, ]\n",
    "data_test_MCF7 <- data [191:278, ]\n",
    "df <- data.frame(data_train_MCF7)\n",
    "write.table(df, file=\"./trainingData.csv\", sep=\",\")\n",
    "df <- data.frame(data_test_MCF7)\n",
    "write.table(df, file=\"./testData.csv\", sep=\",\")"
   ]
  },
  {
   "cell_type": "code",
   "execution_count": null,
   "metadata": {},
   "outputs": [],
   "source": [
    "dim(data_train_MCF7)\n",
    "dim(data_test_MCF7)\n",
    "data_train_MCF7[1:5, 1:5]\n",
    "data_test_MCF7[1:5, 1:5]"
   ]
  },
  {
   "cell_type": "code",
   "execution_count": null,
   "metadata": {},
   "outputs": [],
   "source": [
    "y.factor <- factor (sample_info$Label[3:192 ])\n",
    "length(y.factor)\n",
    "y.factor\n",
    "# bagging 20 times to deal with skewed class size (130 : 60)\n",
    "y.numeric <- as.numeric(y.factor)\n",
    "for (i in seq(0: 189) ) {\n",
    "    y.numeric[i] <-  y.numeric[i]-1\n",
    "}\n",
    "y.numeric"
   ]
  },
  {
   "cell_type": "markdown",
   "metadata": {},
   "source": [
    "## SVM Model using Caret with no Features Selection: "
   ]
  },
  {
   "cell_type": "code",
   "execution_count": null,
   "metadata": {},
   "outputs": [],
   "source": [
    "library(caret)\n",
    "ctrl <- trainControl(method = \"repeatedcv\", repeats = 3, number = 10, verboseIter = TRUE)\n",
    "svm.models <- train(data_train_MCF7, y.factor, method = \"svmLinear\", trControl = ctrl)"
   ]
  },
  {
   "cell_type": "code",
   "execution_count": null,
   "metadata": {},
   "outputs": [],
   "source": [
    "svm.models"
   ]
  },
  {
   "cell_type": "markdown",
   "metadata": {},
   "source": [
    "## SVM Model using Caret with Corr for Feature Selection:"
   ]
  },
  {
   "cell_type": "code",
   "execution_count": null,
   "metadata": {},
   "outputs": [],
   "source": [
    "#Feature selectiom\n",
    "cor.vec <- apply (data_train_MCF7, 2, function(x){cor (x, y.numeric)})\n",
    "length (cor.vec)"
   ]
  },
  {
   "cell_type": "code",
   "execution_count": null,
   "metadata": {},
   "outputs": [],
   "source": [
    "gene.ind <- c(which (cor.vec > 0.03), which (cor.vec < -0.03))\n",
    "length (gene.ind)"
   ]
  },
  {
   "cell_type": "code",
   "execution_count": null,
   "metadata": {},
   "outputs": [],
   "source": [
    "svm.cor <- train(data_train_MCF7[, gene.ind], y.factor, method = \"svmLinear\", trControl = ctrl)"
   ]
  },
  {
   "cell_type": "code",
   "execution_count": null,
   "metadata": {},
   "outputs": [],
   "source": [
    "svm.cor"
   ]
  },
  {
   "cell_type": "code",
   "execution_count": null,
   "metadata": {},
   "outputs": [],
   "source": []
  }
 ],
 "metadata": {
  "kernelspec": {
   "display_name": "R",
   "language": "R",
   "name": "ir"
  },
  "language_info": {
   "codemirror_mode": "r",
   "file_extension": ".r",
   "mimetype": "text/x-r-source",
   "name": "R",
   "pygments_lexer": "r",
   "version": "3.4.4"
  }
 },
 "nbformat": 4,
 "nbformat_minor": 2
}
